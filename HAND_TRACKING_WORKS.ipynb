{
 "cells": [
  {
   "cell_type": "code",
   "execution_count": 7,
   "id": "5973056e-181c-4f1c-b33f-5e0b39521fdf",
   "metadata": {},
   "outputs": [],
   "source": [
    "import cv2\n",
    "import mediapipe as mp\n",
    "\n",
    "# Initialize MediaPipe Hands module\n",
    "mp_hands = mp.solutions.hands\n",
    "hands = mp_hands.Hands()\n",
    "\n",
    "# Initialize MediaPipe Drawing utilities\n",
    "mp_drawing = mp.solutions.drawing_utils\n",
    "\n",
    "# Open video capture\n",
    "cap = cv2.VideoCapture(0)  # Use 0 for the default camera or replace with video file path\n",
    "\n",
    "# Define the codec and create a VideoWriter object\n",
    "fourcc = cv2.VideoWriter_fourcc(*'mp4v')  # Codec for video encoding\n",
    "out = cv2.VideoWriter(r'E:\\jupyter_notebook\\Pictures\\hand_tracking_output1.mp4', fourcc, 20.0, (500, 500))  # Output video file\n",
    "\n",
    "while cap.isOpened():\n",
    "    success, image = cap.read()\n",
    "    if not success:\n",
    "        print(\"Ignoring empty camera frame.\")\n",
    "        continue\n",
    "\n",
    "    # Resize the frame to match the output video size\n",
    "    image = cv2.resize(image, (500, 500))\n",
    "\n",
    "    # Convert the image color from BGR to RGB\n",
    "    image_rgb = cv2.cvtColor(image, cv2.COLOR_BGR2RGB)\n",
    "\n",
    "    # Process the image with MediaPipe Hands model\n",
    "    results = hands.process(image_rgb)\n",
    "\n",
    "    # Draw hand landmarks and connections on the image\n",
    "    if results.multi_hand_landmarks:\n",
    "        for landmarks in results.multi_hand_landmarks:\n",
    "            mp_drawing.draw_landmarks(image, landmarks, mp_hands.HAND_CONNECTIONS)\n",
    "\n",
    "    # Write the processed frame to the video file\n",
    "    out.write(image)\n",
    "\n",
    "    # Display the image\n",
    "    cv2.imshow('Hand Tracking', image)\n",
    "\n",
    "    # Exit the loop when 'q' is pressed\n",
    "    if cv2.waitKey(1) & 0xFF == ord('q'):\n",
    "        break\n",
    "\n",
    "# Release the video capture and writer objects and close all windows\n",
    "cap.release()\n",
    "out.release()\n",
    "cv2.destroyAllWindows()"
   ]
  },
  {
   "cell_type": "code",
   "execution_count": null,
   "id": "a344625b-5e68-4ab2-86fb-6e3b2a2f50d8",
   "metadata": {},
   "outputs": [],
   "source": []
  }
 ],
 "metadata": {
  "kernelspec": {
   "display_name": "Python 3 (ipykernel)",
   "language": "python",
   "name": "python3"
  },
  "language_info": {
   "codemirror_mode": {
    "name": "ipython",
    "version": 3
   },
   "file_extension": ".py",
   "mimetype": "text/x-python",
   "name": "python",
   "nbconvert_exporter": "python",
   "pygments_lexer": "ipython3",
   "version": "3.12.4"
  }
 },
 "nbformat": 4,
 "nbformat_minor": 5
}
